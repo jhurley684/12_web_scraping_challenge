{
 "cells": [
  {
   "cell_type": "code",
   "execution_count": 1,
   "id": "e8bc607a",
   "metadata": {},
   "outputs": [],
   "source": [
    "# Dependencies\n",
    "from bs4 import BeautifulSoup\n",
    "import requests\n",
    "import pymongo"
   ]
  },
  {
   "cell_type": "code",
   "execution_count": 2,
   "id": "8b975be1",
   "metadata": {},
   "outputs": [],
   "source": [
    "# Initialize PyMongo to work with MongoDBs\n",
    "conn = 'mongodb://localhost:27017'\n",
    "client = pymongo.MongoClient(conn)"
   ]
  },
  {
   "cell_type": "code",
   "execution_count": 3,
   "id": "9a4a0ed9",
   "metadata": {},
   "outputs": [],
   "source": [
    "# Define database and collection\n",
    "db = client.mtm_db\n",
    "collection = db.articles"
   ]
  },
  {
   "cell_type": "code",
   "execution_count": 4,
   "id": "354084c8",
   "metadata": {},
   "outputs": [],
   "source": [
    "# URL of page to be scraped\n",
    "url = 'https://mars.nasa.gov/news/'\n",
    "\n",
    "# Retrieve page with the requests module\n",
    "response = requests.get(url)\n",
    "# Create BeautifulSoup object; parse with 'html.parser'\n",
    "soup = BeautifulSoup(response.text, 'html.parser')"
   ]
  },
  {
   "cell_type": "code",
   "execution_count": 43,
   "id": "e619a4c9",
   "metadata": {},
   "outputs": [],
   "source": [
    "# response.text\n",
    "\n"
   ]
  },
  {
   "cell_type": "code",
   "execution_count": 33,
   "id": "0d52dc25",
   "metadata": {},
   "outputs": [],
   "source": [
    "soup = BeautifulSoup(response.text, \"html.parser\")"
   ]
  },
  {
   "cell_type": "code",
   "execution_count": 51,
   "id": "ea7371ab",
   "metadata": {},
   "outputs": [],
   "source": [
    "# results =(soup.prettify())\n"
   ]
  },
  {
   "cell_type": "code",
   "execution_count": 44,
   "id": "73313103",
   "metadata": {},
   "outputs": [],
   "source": [
    "results = soup.find_all('div',class_='content_title')"
   ]
  },
  {
   "cell_type": "code",
   "execution_count": 53,
   "id": "fbcb1f6b",
   "metadata": {},
   "outputs": [],
   "source": [
    "# results\n"
   ]
  },
  {
   "cell_type": "code",
   "execution_count": 45,
   "id": "e185d8f3",
   "metadata": {},
   "outputs": [
    {
     "data": {
      "text/plain": [
       "<div class=\"content_title\">\n",
       "<a href=\"/news/9054/nasas-perseverance-sheds-more-light-on-jezero-craters-watery-past/\">\n",
       "NASA's Perseverance Sheds More Light on Jezero Crater's Watery Past\n",
       "</a>\n",
       "</div>"
      ]
     },
     "execution_count": 45,
     "metadata": {},
     "output_type": "execute_result"
    }
   ],
   "source": [
    "results[0]"
   ]
  },
  {
   "cell_type": "code",
   "execution_count": 59,
   "id": "752ea3b6",
   "metadata": {},
   "outputs": [
    {
     "name": "stdout",
     "output_type": "stream",
     "text": [
      "-------------\n",
      "\n",
      "NASA's Perseverance Sheds More Light on Jezero Crater's Watery Past\n",
      "\n",
      "-------------\n",
      "\n",
      "NASA's Perseverance Rover Collects Puzzle Pieces of Mars' History\n",
      "\n",
      "-------------\n",
      "\n",
      "NASA to Host Briefing on Successful Sample Collection of Martian Rock\n",
      "\n",
      "-------------\n",
      "\n",
      "NASA's Perseverance Team Assessing First Mars Sampling Attempt\n",
      "\n",
      "-------------\n",
      "\n",
      "NASA Perseverance Mars Rover to Acquire First Sample\n",
      "\n",
      "-------------\n",
      "\n",
      "Study Looks More Closely at Mars' Underground Water Signals\n",
      "\n"
     ]
    }
   ],
   "source": [
    "# loop over results to get article data\n",
    "for result in results:\n",
    "    try:\n",
    "        # scrape the article title\n",
    "        title = result.find('a').text\n",
    "        \n",
    "        if(title):\n",
    "            print('-------------')\n",
    "            print (title)\n",
    "            \n",
    "#           #Click on the link and get the \"Teaser\" paragraph\n",
    "#           browser.links.find_by_partial_text('news').click()\n",
    "#           teaser = find('div').class_= 'wysiwyg_content').text\n",
    "            \n",
    "    except AttributeError as e:\n",
    "        print(e)"
   ]
  }
 ],
 "metadata": {
  "kernelspec": {
   "display_name": "Python 3",
   "language": "python",
   "name": "python3"
  },
  "language_info": {
   "codemirror_mode": {
    "name": "ipython",
    "version": 3
   },
   "file_extension": ".py",
   "mimetype": "text/x-python",
   "name": "python",
   "nbconvert_exporter": "python",
   "pygments_lexer": "ipython3",
   "version": "3.8.8"
  }
 },
 "nbformat": 4,
 "nbformat_minor": 5
}
